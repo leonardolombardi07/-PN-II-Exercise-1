{
 "cells": [
  {
   "cell_type": "markdown",
   "metadata": {},
   "source": [
    "# Table of contents\n",
    "\n",
    "1. [Introduction](#1)\n",
    "2. [Starting Point](#2) <br>\n",
    "    2.1 [Constants](#2.1) <br>\n",
    "    2.2 [Fundamental Ship Parameters](#2.2) <br>\n",
    "    2.3 [Voyage Ship Parameters](#2.3) <br>\n",
    "    2.4 [Model Formulas](#2.4) <br>\n",
    "3. [Optimization](#3) <br>\n",
    "    3.1 [Initial Guess | x0](#3.1) <br>\n",
    "    3.2 [Constraints | constraints](#3.2) <br>\n",
    "    3.3 [Boundaries | bounds](#3.3) <br>\n",
    "    3.4 [Objective Function | func](#3.4) <br>\n",
    "    3.5 [Results](#3.5) <br>"
   ]
  },
  {
   "cell_type": "markdown",
   "metadata": {},
   "source": [
    "## 1. Introduction <a name=\"1\"></a>\n",
    "\n",
    "The purpose of this exercise is to optimize the main dimensions and speed of service of a bulk carrier, in order to minimize the Annual Unit Load Shipping cost ($/ton). To solve the exercise, the computational model used - a set of empirical and semi-empirical formulas - is the one proposed by Xuebin (2009), as presented in the image below:\n",
    "\n",
    "<br />\n",
    "<img src=\"./images/computational_model_xuebin.png\" width=\"500\" /> \n",
    "<br />\n",
    "\n",
    "With the following given constraints:\n",
    "\n",
    "<br />\n",
    "<img src=\"./images/constrains.png\" width=\"200\" /> \n",
    "<br />\n",
    "\n",
    "\n",
    "To apply the optimization, we set as our goal to minimize the transportation cost, which is the ratio of annual costs to annual cargo (i.e, transportation cost = annual costs/annual cargo). To solve this problem with programming, we use the Python Scipy package, which provides fundamental algorithms for scientific computing in Python. Specifically, we use the minimize function provided by this package, whose documentation can be found at https://docs.scipy.org/doc/scipy/reference/generated/scipy.optimize.minimize.html\n",
    "\n",
    "If any error indicating the need to install the Scipy packages occurs when running this notebook, uncomment the final part of the cell below and run it to install it."
   ]
  },
  {
   "cell_type": "code",
   "execution_count": 1,
   "metadata": {},
   "outputs": [],
   "source": [
    "# The sys module provides various functions and variables that are used to\n",
    "# manipulate different parts of the Python runtime environment.\n",
    "# This provides a safer way to install packages.\n",
    "\n",
    "# import sys\n",
    "# !{sys.executable} -m pip install scipy"
   ]
  },
  {
   "cell_type": "markdown",
   "metadata": {},
   "source": [
    "## 2. Starting Point <a name=\"2\"></a>\n",
    "\n",
    "Before actually using the minimize function to apply the optimization, we define the set of relevant constants and parameters with their respective initial values:"
   ]
  },
  {
   "cell_type": "markdown",
   "metadata": {},
   "source": [
    "### 2.1 Constants <a name=\"2.1\"></a>"
   ]
  },
  {
   "cell_type": "code",
   "execution_count": 14,
   "metadata": {},
   "outputs": [],
   "source": [
    "g = 9.805  # Gravitational acceleration at the earth's surface\n",
    "p = 1.025  # Sea water density"
   ]
  },
  {
   "cell_type": "markdown",
   "metadata": {},
   "source": [
    "### 2.2 Fundamental Ship Parameters <a name=\"2.2\"></a>"
   ]
  },
  {
   "cell_type": "code",
   "execution_count": 15,
   "metadata": {},
   "outputs": [],
   "source": [
    "L = 55 # Length\n",
    "B = 5 # Breadth\n",
    "D = 10 # Depth\n",
    "T = 5 # Draught\n",
    "Cb = 0.7 # Block Coefficient\n",
    "Vk = 14 # TODO - what is Vk?\n",
    "DWT = 100000 # Deadweight"
   ]
  },
  {
   "cell_type": "markdown",
   "metadata": {},
   "source": [
    "### 2.3 Voyage Parameters  <a name=\"2.3\"></a>"
   ]
  },
  {
   "cell_type": "code",
   "execution_count": 16,
   "metadata": {},
   "outputs": [],
   "source": [
    "round_trip_miles = 5000\n",
    "handling_rate = 8000\n",
    "fuel_price = 100"
   ]
  },
  {
   "cell_type": "markdown",
   "metadata": {},
   "source": [
    "### 2.4 Model Formulas  <a name=\"2.4\"></a>\n",
    "\n",
    "To avoid code repetition, we defined functions that calculate parameters to formulas defined by the computational model used:"
   ]
  },
  {
   "cell_type": "code",
   "execution_count": 17,
   "metadata": {},
   "outputs": [],
   "source": [
    "def get_V(Vk):\n",
    "    return 0.5144*Vk\n",
    "\n",
    "\n",
    "def get_displacement(L, B, T, Cb):\n",
    "    return p*L*B*T*Cb\n",
    "\n",
    "\n",
    "def get_froude_number(Vk, L):\n",
    "    V = get_V(Vk)\n",
    "    return V / ((g*L) ** 0.5)\n",
    "\n",
    "\n",
    "def get_power(Cb, displacement, V, froude_number):\n",
    "    a = 4977.06*(Cb ** 2) - 8105.61*Cb + 4456.51\n",
    "    b = -10847.2*(Cb ** 2) + 12817*Cb - 6960.32\n",
    "    return (displacement ** (2/3))*(V ** 3) / (a + b*froude_number)\n",
    "\n",
    "\n",
    "def get_steel_weight(L, B, D, Cb):\n",
    "    return 0.034*(L**1.7)*(B**0.7)*(D**0.4)*(Cb**0.5)\n",
    "\n",
    "\n",
    "def get_outfit_weight(L, B, D, Cb):\n",
    "    return (L ** 0.8)*(B ** 0.6)*(D ** 0.3)*(Cb ** 0.1)\n",
    "\n",
    "\n",
    "def get_machinery_weight(power): return 0.17*(power ** 0.9)\n",
    "\n",
    "\n",
    "def get_lightship_weight(steel_weight, outfit_weight, machinery_weight):\n",
    "    return steel_weight + outfit_weight + machinery_weight\n",
    "\n",
    "\n",
    "def get_sea_days(round_trip_miles, Vk):\n",
    "    return round_trip_miles/(24*Vk)\n",
    "\n",
    "\n",
    "def get_daily_consumption(power):\n",
    "    return 0.19*power*24/1000 + 0.2\n",
    "\n",
    "\n",
    "def get_fuel_carried(daily_consumption, sea_days):\n",
    "    return daily_consumption*(sea_days+5)\n",
    "\n",
    "\n",
    "def get_miscellaneous_DWT(DWT):\n",
    "    return 2*(DWT ** 0.5)\n",
    "\n",
    "\n",
    "def get_cargo_DWT(DWT, fuel_carried, miscellaneous_DWT):\n",
    "    return DWT-fuel_carried-miscellaneous_DWT\n",
    "\n",
    "\n",
    "def get_port_days(cargo_DWT, handling_rate):\n",
    "    return 2*((cargo_DWT/handling_rate)+0.5)\n",
    "\n",
    "\n",
    "def get_round_trips_per_year(sea_days, port_days):\n",
    "    return 350/(sea_days+port_days)\n",
    "\n",
    "\n",
    "def get_port_cost(DWT):\n",
    "    return 6.3*(DWT ** 0.8)\n",
    "\n",
    "\n",
    "def get_fuel_cost(daily_consumption, sea_days, fuel_price):\n",
    "    return 1.05*daily_consumption*sea_days*fuel_price\n",
    "\n",
    "\n",
    "def get_voyage_costs(fuel_cost, port_cost, round_trips_per_year):\n",
    "    return (fuel_cost+port_cost)*round_trips_per_year\n",
    "\n",
    "\n",
    "def get_running_cost(DWT):\n",
    "    return 40000*(DWT ** 0.3)\n",
    "\n",
    "\n",
    "def get_ship_cost(steel_weight, outfit_weight, power):\n",
    "    return 1.3*(2000*steel_weight + 3500 *\n",
    "                outfit_weight + 2400*(power ** 0.8))\n",
    "\n",
    "\n",
    "def get_capital_costs(ship_cost): return 0.2*ship_cost\n",
    "\n",
    "\n",
    "def get_annual_cost(capital_costs, running_cost, voyage_costs):\n",
    "    return capital_costs + running_cost + voyage_costs\n",
    "\n",
    "\n",
    "def get_annual_cargo(cargo_DWT, round_trips_per_year):\n",
    "    return cargo_DWT*round_trips_per_year\n",
    "\n",
    "\n",
    "def get_transportation_cost(annual_cost, annual_cargo):\n",
    "    return annual_cost/annual_cargo\n",
    "\n",
    "\n",
    "def get_KB(T):  # Vertical Centre of Buoyancy\n",
    "    return 0.53*T\n",
    "\n",
    "\n",
    "def get_BMt(Cb, B, T):  # Metacentric Radius\n",
    "    return (0.085*Cb - 0.002)*(B ** 2)/(T+Cb)\n",
    "\n",
    "\n",
    "def get_KG(D):  # Vertical Centre of Gravity\n",
    "    return 1 + 0.52*D\n",
    "\n",
    "\n",
    "def get_GMt(KB, BMt, KG):  # Metacentric Height\n",
    "    return KB + BMt - KG"
   ]
  },
  {
   "cell_type": "markdown",
   "metadata": {},
   "source": [
    "## 3. Optimization"
   ]
  },
  {
   "cell_type": "markdown",
   "metadata": {},
   "source": [
    "Now we proceed to apply the minimize function. A more detailed guide to its use can be found at https://realpython.com/python-scipy-cluster-optimize/. But, for the application in question, we can summarize such a function as a function that takes five (05) arguments:\n",
    "\n",
    "1. **x0**: a list/vector defining the set of parameters (which will be changed in the optimization process) and their respective initial values (also know as the \"initial guess\" vector);\n",
    "2. **constraints**: a list of dictionaries defining constraints for possible parameter values obtained in the optimization;\n",
    "3. **bounds**: a list of limits (maximum and minimum values) for possible parameter values.\n",
    "4. **fun**: a function that returns the value to be minimized;\n",
    "5. **method**: the optimization method/algorithm used. In this case, we use the Sequential Least Squares Programming (SLSQP) algorithm. See more here: https://docs.scipy.org/doc/scipy/reference/optimize.minimize-slsqp.html#optimize-minimize-slsqp;\n",
    "\n",
    "In mathematical terms, the minimize function is solving the following problem:\n",
    "\n",
    "<br />\n",
    "<img src=\"./images/minimize_function.png\" width=\"500\" /> \n",
    "<br />\n",
    "\n",
    "Where $F(x)$ corresponds to the **fun** argument; $X$ corresponds to the param vector, whose order of elements follows from the definition of the initial guess, **x0**; $C_j(X) = 0$ is a given equality constraint and $C_j(X) >= 0$ an inequality constraint, which are defined in the **constraints** argument; and $XL <= x <= XU$ is the set of boundaries (L being the lower bound and U the upper one), which are defined in the **bounds** argument.\n",
    "\n",
    "From the order of arguments above, we build each of them step-by-step for the analyzed case, starting with **x0**."
   ]
  },
  {
   "cell_type": "markdown",
   "metadata": {},
   "source": [
    "### 3.3 Initial Guess | x0  <a name=\"3.3\"></a>\n",
    "\n",
    "The order in which we place each parameter is arbitrary for program implementation. For organizational purposes, however, we put more fundamental ship parameters at the beginning."
   ]
  },
  {
   "cell_type": "code",
   "execution_count": 18,
   "metadata": {},
   "outputs": [],
   "source": [
    "x0 = [L, B, D, T, Cb, Vk, DWT]"
   ]
  },
  {
   "cell_type": "markdown",
   "metadata": {},
   "source": [
    "It is important to note that, as we will see below, the order of parameters in the initial guess vector **x0** will be relevant in the understanding of other parameters."
   ]
  },
  {
   "cell_type": "markdown",
   "metadata": {},
   "source": [
    "### 3.2 Constraints | constraints  <a name=\"3.2\"></a>\n",
    "\n",
    "We define a sequence of python dictionaries, each representing a constraint of type $C_j(X) >= 0$ (in this case, we only deal with inequality constraints) and with the keys \"type\" (to define if it is an equality or inequality constraint) and \"func\" (to define the constraint itself)."
   ]
  },
  {
   "cell_type": "code",
   "execution_count": 19,
   "metadata": {},
   "outputs": [],
   "source": [
    "def build_constraints():\n",
    "    '''A function that builds constraints relating two or more parameters\n",
    "    defined for the optimization problem.\n",
    "\n",
    "\n",
    "    Returns\n",
    "    -------\n",
    "    out : sequence, dict\n",
    "        Sequence of dictionaries, each representing a specif constraint\n",
    "        and containing the keys \"type\" and \"fun\".\n",
    "\n",
    "        \"type\" : {\"eq\", \"ineq\"}\n",
    "            Determines if it is an equality or inequality constraint\n",
    "\n",
    "        \"fun\" : callable\n",
    "            The function defining the constraint. It receives a vector x with\n",
    "            all parameters (in the order as defined by the initial guess, x0).\n",
    "            Equality constraint means that the constraint function result is to\n",
    "            be zero (fun(x) == 0) whereas inequality means that it is to be\n",
    "            non-negative (f(x) >= 0).\n",
    "\n",
    "    See Also\n",
    "    --------\n",
    "    https://stackoverflow.com/questions/42303470/scipy-optimize-inequality-constraint-which-side-of-the-inequality-is-considere/42304099\n",
    "\n",
    "    Notes\n",
    "    -----\n",
    "    Constraints typically don't need a builder function like this and are\n",
    "    more succinctly defined with \"func\" being a lambda function. The decision to\n",
    "    create the build_constraints function was to try to make it easier to understand\n",
    "    how constraints are defined in Scipy and to clarify where each constraint of the\n",
    "    problem was defined.\n",
    "    '''\n",
    "\n",
    "    def L_and_B(x):\n",
    "        '''L/B >= 6'''\n",
    "        L, B = x[0], x[1]\n",
    "        return L/B - 6\n",
    "\n",
    "    def L_and_D(x):\n",
    "        '''L/D  <= 15'''\n",
    "        L, D = x[0], x[2]\n",
    "        return 15 - L/D\n",
    "\n",
    "    def L_and_T(x):\n",
    "        '''L/T <= 19'''\n",
    "        L, T = x[0], x[3]\n",
    "        return 19 - L/T\n",
    "\n",
    "    def T_and_DWT(x):\n",
    "        '''T <= 0.45DWT^0,31'''\n",
    "        T, DWT = x[3], x[6]\n",
    "        return 0.45*DWT*(DWT**0.32) - T\n",
    "\n",
    "    def T_and_D(x):\n",
    "        '''T <= 0.7D + 0.7'''\n",
    "        D, T = x[2], x[3]\n",
    "        return 0.7*D + 0.7 - T\n",
    "\n",
    "    def stability_constraint(x):\n",
    "        '''GMt >= 0.07B'''\n",
    "        B, D, T, Cb = x[1], x[2], x[3], x[4]\n",
    "        KB = get_KB(T)\n",
    "        BMt = get_BMt(Cb, B, T)\n",
    "        KG = get_KG(D)\n",
    "        GMt = get_GMt(KB, BMt, KG)\n",
    "        return GMt - 0.07*B\n",
    "\n",
    "    def froude_number_constraint(x):\n",
    "        '''froude_number <= 0.32'''\n",
    "        L, Vk = x[0], x[5]\n",
    "        froude_number = get_froude_number(Vk, L)\n",
    "        return 0.32 - froude_number\n",
    "\n",
    "    return (\n",
    "        {'type': 'ineq', 'fun': L_and_B},\n",
    "        {'type': 'ineq', 'fun': L_and_D},\n",
    "        {'type': 'ineq', 'fun': L_and_T},\n",
    "        {'type': 'ineq', 'fun': T_and_DWT},\n",
    "        {'type': 'ineq', 'fun': T_and_D},\n",
    "        {'type': 'ineq', 'fun': stability_constraint},\n",
    "        {'type': 'ineq', 'fun': froude_number_constraint},\n",
    "    )"
   ]
  },
  {
   "cell_type": "markdown",
   "metadata": {},
   "source": [
    "### 3.3 Boundaries | bounds  <a name=\"3.3\"></a>\n",
    "\n",
    "We define a sequence of python tuples, each representing a boundary of type $L <= x <= U$. In this case, the order of the boundaries given in the sequence must match the order of the parameters given in the initial guess vector **x0**."
   ]
  },
  {
   "cell_type": "code",
   "execution_count": 20,
   "metadata": {},
   "outputs": [],
   "source": [
    "def build_bounds():\n",
    "    '''A function that defines bounds for each parameter of the optimization\n",
    "   problem.\n",
    "\n",
    "\n",
    "    Returns\n",
    "    -------\n",
    "    out : sequence, tup\n",
    "        Sequence of tuples, each representing the minimum and maximum bounds\n",
    "        for a specific parameter.\n",
    "\n",
    "    Notes\n",
    "    -----\n",
    "    The order of the bounds of the returned sequence must match the order of\n",
    "    the initial guess vector (x0) defined. The value \"None\" represents the\n",
    "    absence of a minimum or maximum bound.\n",
    "    '''\n",
    "\n",
    "    L_bound = (0, 274.32)\n",
    "    B_bound = (0, None)\n",
    "    D_bound = (0, None)\n",
    "    T_bound = (0, None)\n",
    "    Cb_bound = (0.63, 0.75)\n",
    "    Vk_bound = (14, 18)\n",
    "    DWT_bound = (25000, 500000)\n",
    "    return (L_bound, B_bound, D_bound, T_bound,\n",
    "            Cb_bound, Vk_bound, DWT_bound)"
   ]
  },
  {
   "cell_type": "markdown",
   "metadata": {},
   "source": [
    "### 3.4 Objective Function | func  <a name=\"3.4\"></a>\n",
    "\n",
    "A function that, from a set of parameters that can be changed (respecting constraints and limits), returns the calculated value of the transport cost, which we seek to minimize. "
   ]
  },
  {
   "cell_type": "code",
   "execution_count": 21,
   "metadata": {},
   "outputs": [],
   "source": [
    "def transportation_cost_function(x):\n",
    "    '''A function that calculates the transportation cost from a set\n",
    "    of parameters.\n",
    "\n",
    "    Parameters\n",
    "    -------\n",
    "    x : list\n",
    "        A list of parameters whose order matches what was defined in \n",
    "        the initial guess vector (x0)\n",
    "\n",
    "    Returns\n",
    "    -------\n",
    "    out : float\n",
    "        The value of the transportation cost calculated from given parameters\n",
    "    '''\n",
    "    L, B, D, T, Cb, Vk, DWT = x\n",
    "\n",
    "    # Power\n",
    "    displacement = get_displacement(L, B, T, Cb)\n",
    "    V, froude_number = get_V(Vk), get_froude_number(Vk, L)\n",
    "    power = get_power(Cb, displacement, V, froude_number)\n",
    "\n",
    "    # Weights\n",
    "    steel_weight = get_steel_weight(L, B, D, Cb)\n",
    "    outfit_weight = get_outfit_weight(L, B, D, Cb)\n",
    "\n",
    "    # We commented the lines containing the variables below because, although\n",
    "    # they were mentioned in problem assignment, they are not used in our program.\n",
    "    # machinery_weight = get_machinery_weight(power)\n",
    "    # ligthship_weight = get_lightship_weight(\n",
    "    #     steel_weight, outfit_weight, machinery_weight)\n",
    "\n",
    "    # General (TODO: give a better name for this category of calculations)\n",
    "    sea_days = get_sea_days(round_trip_miles, Vk)\n",
    "    daily_consumption = get_daily_consumption(power)\n",
    "    fuel_carried = get_fuel_carried(daily_consumption, sea_days)\n",
    "    miscellaneous_DWT = get_miscellaneous_DWT(DWT)\n",
    "    cargo_DWT = get_cargo_DWT(DWT, fuel_carried, miscellaneous_DWT)\n",
    "\n",
    "    port_days = get_port_days(cargo_DWT, handling_rate)\n",
    "    round_trips_per_year = get_round_trips_per_year(sea_days, port_days)\n",
    "\n",
    "    # Costs\n",
    "    port_cost = get_port_cost(DWT)\n",
    "    fuel_cost = get_fuel_cost(daily_consumption, sea_days, fuel_price)\n",
    "    voyage_costs = get_voyage_costs(fuel_cost, port_cost, round_trips_per_year)\n",
    "    running_cost = get_running_cost(DWT)\n",
    "    ship_cost = get_ship_cost(steel_weight, outfit_weight, power)\n",
    "    capital_costs = get_capital_costs(ship_cost)\n",
    "    annual_cost = get_annual_cost(capital_costs, running_cost, voyage_costs)\n",
    "    annual_cargo = get_annual_cargo(cargo_DWT, round_trips_per_year)\n",
    "\n",
    "    return get_transportation_cost(annual_cost, annual_cargo)\n"
   ]
  },
  {
   "cell_type": "markdown",
   "metadata": {},
   "source": [
    "### 3.5 Results  <a name=\"3.5\"></a>\n",
    "\n",
    "Finally, we use the values for each parameter developed as arguments of the minimize function:"
   ]
  },
  {
   "cell_type": "code",
   "execution_count": 24,
   "metadata": {},
   "outputs": [],
   "source": [
    "from scipy.optimize import minimize\n",
    "\n",
    "result = minimize(\n",
    "    x0=x0, # Initial guess vector\n",
    "    fun=transportation_cost_function, # Objective function to be optimized\n",
    "    method='SLSQP', # We are using the Sequential Least Squares Programming algorithm\n",
    "    constraints=build_constraints(), # Sequence of dictionaries defining the constraints\n",
    "    bounds=build_bounds() # Sequence of tuples defining lower and upper bounds for each parameter\n",
    ")"
   ]
  },
  {
   "cell_type": "markdown",
   "metadata": {},
   "source": [
    "We then get the optimized transportation cost and the corresponding ship parameters as the result of the optimization:"
   ]
  },
  {
   "cell_type": "code",
   "execution_count": 27,
   "metadata": {},
   "outputs": [
    {
     "name": "stdout",
     "output_type": "stream",
     "text": [
      "Optimized transportation cost: 3.2402818838874525 \n",
      "\n",
      "Length (L) after optimization: 98.83192803980378\n",
      "Breadth (B) after optimization: 16.47198800663392\n",
      "Depth (D) after optimization: 6.588795202653554\n",
      "Draught (T) after optimization: 5.3121566418576736\n",
      "Block Coefficient (Cb) after optimization: 0.7499999999999816\n",
      "Speed (Vk) after optimization: 15.756864143830995\n",
      "Deadweigth (DWT) after optimization: 100000.00350009301\n"
     ]
    }
   ],
   "source": [
    "# Get the Optimized transportation cost and the changed\n",
    "# ship parameters as result of the optimization\n",
    "optimized_transportation_cost = result.fun\n",
    "L, B, D, T, Cb, Vk, DWT = result.x\n",
    "\n",
    "# And finnally print the obtained values\n",
    "print(f\"Optimized transportation cost: {optimized_transportation_cost} \\n\")\n",
    "print(f\"Length (L) after optimization: {L}\")\n",
    "print(f\"Breadth (B) after optimization: {B}\")\n",
    "print(f\"Depth (D) after optimization: {D}\")\n",
    "print(f\"Draught (T) after optimization: {T}\")\n",
    "print(f\"Block Coefficient (Cb) after optimization: {Cb}\")\n",
    "print(f\"Speed (Vk) after optimization: {Vk}\")\n",
    "print(f\"Deadweigth (DWT) after optimization: {DWT}\")"
   ]
  }
 ],
 "metadata": {
  "kernelspec": {
   "display_name": "Python 3",
   "language": "python",
   "name": "python3"
  },
  "language_info": {
   "codemirror_mode": {
    "name": "ipython",
    "version": 3
   },
   "file_extension": ".py",
   "mimetype": "text/x-python",
   "name": "python",
   "nbconvert_exporter": "python",
   "pygments_lexer": "ipython3",
   "version": "3.8.5"
  }
 },
 "nbformat": 4,
 "nbformat_minor": 4
}
